{
 "cells": [
  {
   "metadata": {},
   "cell_type": "code",
   "outputs": [],
   "execution_count": null,
   "source": "",
   "id": "5ba68249b681adb"
  },
  {
   "metadata": {},
   "cell_type": "markdown",
   "source": "This Nootebook is for splliting our Dataset in Train and Test set. We use 80 % as Trainings set and 20% as Test set. \n",
   "id": "47c0ae78f4537df5"
  },
  {
   "metadata": {
    "ExecuteTime": {
     "end_time": "2025-04-09T12:32:00.724468Z",
     "start_time": "2025-04-09T12:32:00.372139Z"
    }
   },
   "cell_type": "code",
   "source": [
    "from sklearn.model_selection import train_test_split\n",
    "import pandas as pd"
   ],
   "id": "eb57f1323fec79c1",
   "outputs": [],
   "execution_count": 1
  },
  {
   "metadata": {
    "ExecuteTime": {
     "end_time": "2025-04-09T12:33:17.694291Z",
     "start_time": "2025-04-09T12:32:37.312073Z"
    }
   },
   "cell_type": "code",
   "source": [
    "# Load dataset \n",
    "df = pd.read_csv(\"data/vehicles.csv\")"
   ],
   "id": "72c7375623e47ffd",
   "outputs": [],
   "execution_count": 4
  },
  {
   "metadata": {
    "ExecuteTime": {
     "end_time": "2025-04-09T12:33:26.884102Z",
     "start_time": "2025-04-09T12:33:26.411113Z"
    }
   },
   "cell_type": "code",
   "source": [
    "# Split into train (80%) and test (20%) with a fixed random state\n",
    "train_df, test_df = train_test_split(df, test_size=0.2, random_state=42)"
   ],
   "id": "3d4e8016b91a5fd4",
   "outputs": [],
   "execution_count": 5
  },
  {
   "metadata": {
    "ExecuteTime": {
     "end_time": "2025-04-09T12:35:43.618201Z",
     "start_time": "2025-04-09T12:35:43.612123Z"
    }
   },
   "cell_type": "code",
   "source": "len(train_df)",
   "id": "422af53139f8d6ff",
   "outputs": [
    {
     "data": {
      "text/plain": [
       "341504"
      ]
     },
     "execution_count": 11,
     "metadata": {},
     "output_type": "execute_result"
    }
   ],
   "execution_count": 11
  },
  {
   "metadata": {
    "ExecuteTime": {
     "end_time": "2025-04-09T12:35:44.422939Z",
     "start_time": "2025-04-09T12:35:44.417265Z"
    }
   },
   "cell_type": "code",
   "source": "len(test_df)",
   "id": "df78069be408e39e",
   "outputs": [
    {
     "data": {
      "text/plain": [
       "85376"
      ]
     },
     "execution_count": 12,
     "metadata": {},
     "output_type": "execute_result"
    }
   ],
   "execution_count": 12
  },
  {
   "metadata": {
    "ExecuteTime": {
     "end_time": "2025-04-09T12:38:15.052399Z",
     "start_time": "2025-04-09T12:35:59.811180Z"
    }
   },
   "cell_type": "code",
   "source": [
    "# Save train and test sets\n",
    "train_df.to_csv(\"train_set.csv\", index=False)\n",
    "test_df.to_csv(\"test_set.csv\", index=False)"
   ],
   "id": "41e0cfb1062d8b83",
   "outputs": [],
   "execution_count": 13
  }
 ],
 "metadata": {
  "kernelspec": {
   "display_name": "Python 3",
   "language": "python",
   "name": "python3"
  },
  "language_info": {
   "codemirror_mode": {
    "name": "ipython",
    "version": 2
   },
   "file_extension": ".py",
   "mimetype": "text/x-python",
   "name": "python",
   "nbconvert_exporter": "python",
   "pygments_lexer": "ipython2",
   "version": "2.7.6"
  }
 },
 "nbformat": 4,
 "nbformat_minor": 5
}
