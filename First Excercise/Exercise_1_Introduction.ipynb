{
 "cells": [
  {
   "cell_type": "markdown",
   "id": "886142b7",
   "metadata": {},
   "source": [
    "# Introduction to Pandas for Data Manipulation\n",
    "In this exercise, we will explore **pandas** for **data manipulation** and **preprocessing**, with a focus on making data feasible for **data mining** tasks.\n",
    "\n",
    "### What is Pandas?\n",
    "Pandas is a powerful Python library for data manipulation and analysis. It provides data structures such as **Series** (1D) and **DataFrame** (2D) that allow efficient handling of structured data. Pandas is widely used for data preprocessing, exploration, and transformation.\n",
    "\n",
    "### Installing Pandas in Jupyter Notebook\n",
    "To install Pandas directly in a Jupyter Notebook, use:"
   ]
  },
  {
   "cell_type": "code",
   "id": "41d25b80-3a2a-438e-9124-b26895dc39ea",
   "metadata": {
    "ExecuteTime": {
     "end_time": "2025-02-20T11:12:50.767182Z",
     "start_time": "2025-02-20T11:12:50.762766Z"
    }
   },
   "source": [
    "#!pip install pandas"
   ],
   "outputs": [],
   "execution_count": 1
  },
  {
   "cell_type": "markdown",
   "id": "3680fc78-2863-4e36-8bc4-68d8fc0fa483",
   "metadata": {},
   "source": [
    "We'll explore:\n",
    "- Loading and inspecting data\n",
    "- Handling missing values\n",
    "- Encoding categorical variables\n",
    "- Aggregations and filtering\n",
    "\n",
    "Let's get started!"
   ]
  },
  {
   "cell_type": "markdown",
   "id": "14130078",
   "metadata": {},
   "source": [
    "## Loading the Dataset\n",
    "First, let's load a sample dataset as a `pandas` data frame and take a look at its structure."
   ]
  },
  {
   "cell_type": "code",
   "id": "6e88828c",
   "metadata": {
    "ExecuteTime": {
     "end_time": "2025-02-20T11:12:51.203093Z",
     "start_time": "2025-02-20T11:12:50.791204Z"
    }
   },
   "source": [
    "import pandas as pd\n",
    "\n",
    "# Load the dataset\n",
    "df = pd.read_csv('golf.csv')\n",
    "\n",
    "# Display the first few rows\n",
    "df.head()"
   ],
   "outputs": [
    {
     "data": {
      "text/plain": [
       "    Outlook  Humidity   Wind  Temperature C  Temperature F   Play\n",
       "0     sunny      85.0  False           29.5           85.0  False\n",
       "1     sunny      90.0   True           26.5           80.0  False\n",
       "2  overcast      78.0  False           28.5           83.0   True\n",
       "3      rain      96.0  False           21.0           70.0   True\n",
       "4      rain      80.0  False           20.0           68.0   True"
      ],
      "text/html": [
       "<div>\n",
       "<style scoped>\n",
       "    .dataframe tbody tr th:only-of-type {\n",
       "        vertical-align: middle;\n",
       "    }\n",
       "\n",
       "    .dataframe tbody tr th {\n",
       "        vertical-align: top;\n",
       "    }\n",
       "\n",
       "    .dataframe thead th {\n",
       "        text-align: right;\n",
       "    }\n",
       "</style>\n",
       "<table border=\"1\" class=\"dataframe\">\n",
       "  <thead>\n",
       "    <tr style=\"text-align: right;\">\n",
       "      <th></th>\n",
       "      <th>Outlook</th>\n",
       "      <th>Humidity</th>\n",
       "      <th>Wind</th>\n",
       "      <th>Temperature C</th>\n",
       "      <th>Temperature F</th>\n",
       "      <th>Play</th>\n",
       "    </tr>\n",
       "  </thead>\n",
       "  <tbody>\n",
       "    <tr>\n",
       "      <th>0</th>\n",
       "      <td>sunny</td>\n",
       "      <td>85.0</td>\n",
       "      <td>False</td>\n",
       "      <td>29.5</td>\n",
       "      <td>85.0</td>\n",
       "      <td>False</td>\n",
       "    </tr>\n",
       "    <tr>\n",
       "      <th>1</th>\n",
       "      <td>sunny</td>\n",
       "      <td>90.0</td>\n",
       "      <td>True</td>\n",
       "      <td>26.5</td>\n",
       "      <td>80.0</td>\n",
       "      <td>False</td>\n",
       "    </tr>\n",
       "    <tr>\n",
       "      <th>2</th>\n",
       "      <td>overcast</td>\n",
       "      <td>78.0</td>\n",
       "      <td>False</td>\n",
       "      <td>28.5</td>\n",
       "      <td>83.0</td>\n",
       "      <td>True</td>\n",
       "    </tr>\n",
       "    <tr>\n",
       "      <th>3</th>\n",
       "      <td>rain</td>\n",
       "      <td>96.0</td>\n",
       "      <td>False</td>\n",
       "      <td>21.0</td>\n",
       "      <td>70.0</td>\n",
       "      <td>True</td>\n",
       "    </tr>\n",
       "    <tr>\n",
       "      <th>4</th>\n",
       "      <td>rain</td>\n",
       "      <td>80.0</td>\n",
       "      <td>False</td>\n",
       "      <td>20.0</td>\n",
       "      <td>68.0</td>\n",
       "      <td>True</td>\n",
       "    </tr>\n",
       "  </tbody>\n",
       "</table>\n",
       "</div>"
      ]
     },
     "execution_count": 2,
     "metadata": {},
     "output_type": "execute_result"
    }
   ],
   "execution_count": 2
  },
  {
   "cell_type": "markdown",
   "id": "e78b9858",
   "metadata": {},
   "source": [
    "## Data Overview\n",
    "We check for data types, missing values, and the general structure of the dataset."
   ]
  },
  {
   "cell_type": "code",
   "id": "e7a0f2bd",
   "metadata": {
    "ExecuteTime": {
     "end_time": "2025-02-20T11:12:51.719979Z",
     "start_time": "2025-02-20T11:12:51.709157Z"
    }
   },
   "source": [
    "print('Dataset Info:')\n",
    "df.info()\n",
    "print('\\nMissing Values:')\n",
    "print(df.isnull().sum())"
   ],
   "outputs": [
    {
     "name": "stdout",
     "output_type": "stream",
     "text": [
      "Dataset Info:\n",
      "<class 'pandas.core.frame.DataFrame'>\n",
      "RangeIndex: 15 entries, 0 to 14\n",
      "Data columns (total 6 columns):\n",
      " #   Column         Non-Null Count  Dtype  \n",
      "---  ------         --------------  -----  \n",
      " 0   Outlook        15 non-null     object \n",
      " 1   Humidity       15 non-null     float64\n",
      " 2   Wind           14 non-null     object \n",
      " 3   Temperature C  15 non-null     float64\n",
      " 4   Temperature F  15 non-null     float64\n",
      " 5   Play           15 non-null     bool   \n",
      "dtypes: bool(1), float64(3), object(2)\n",
      "memory usage: 747.0+ bytes\n",
      "\n",
      "Missing Values:\n",
      "Outlook          0\n",
      "Humidity         0\n",
      "Wind             1\n",
      "Temperature C    0\n",
      "Temperature F    0\n",
      "Play             0\n",
      "dtype: int64\n"
     ]
    }
   ],
   "execution_count": 4
  },
  {
   "cell_type": "markdown",
   "id": "ee7b09fe-1f56-4cce-8f02-a232b63c66e9",
   "metadata": {},
   "source": [
    "## Handling Missing Values\n",
    "If our dataset contains missing values, we need to handle them appropriately. For now, we will **remove rows with missing values** using `dropna()`. However, more strategies exist to handle this problem, which will be discussed in the next weeks."
   ]
  },
  {
   "cell_type": "code",
   "id": "fc589cfd-3f33-433c-8543-8365ba27fa46",
   "metadata": {
    "ExecuteTime": {
     "end_time": "2025-02-20T11:12:52.064844Z",
     "start_time": "2025-02-20T11:12:52.054953Z"
    }
   },
   "source": [
    "# Remove rows with missing values\n",
    "df = df.dropna()\n",
    "\n",
    "# Verify that missing values are removed\n",
    "print('Dataset Info:')\n",
    "df.info()"
   ],
   "outputs": [
    {
     "name": "stdout",
     "output_type": "stream",
     "text": [
      "Dataset Info:\n",
      "<class 'pandas.core.frame.DataFrame'>\n",
      "Index: 14 entries, 0 to 13\n",
      "Data columns (total 6 columns):\n",
      " #   Column         Non-Null Count  Dtype  \n",
      "---  ------         --------------  -----  \n",
      " 0   Outlook        14 non-null     object \n",
      " 1   Humidity       14 non-null     float64\n",
      " 2   Wind           14 non-null     object \n",
      " 3   Temperature C  14 non-null     float64\n",
      " 4   Temperature F  14 non-null     float64\n",
      " 5   Play           14 non-null     bool   \n",
      "dtypes: bool(1), float64(3), object(2)\n",
      "memory usage: 686.0+ bytes\n"
     ]
    }
   ],
   "execution_count": 5
  },
  {
   "cell_type": "markdown",
   "id": "e00cc712-7e01-418b-92d1-af5e9befcdf1",
   "metadata": {},
   "source": [
    "When a Pandas DataFrame contains a column with boolean values (`True`/`False`) and at least one `None` value, Pandas infers the column type as `object` instead of `bool`. Even after using `dropna()`, the column remains `object` because Pandas does not automatically convert it back to `bool`.\n"
   ]
  },
  {
   "cell_type": "code",
   "id": "7cb8ed96-ff08-4439-8a77-5a08fbba84b0",
   "metadata": {
    "ExecuteTime": {
     "end_time": "2025-02-20T11:12:52.241060Z",
     "start_time": "2025-02-20T11:12:52.234168Z"
    }
   },
   "source": [
    "df['Wind'] = df['Wind'].astype(bool)  # Convert to bool becaues itnwill intepret as STring like \"True\"\n",
    "# Check info \n",
    "df.info()"
   ],
   "outputs": [
    {
     "name": "stdout",
     "output_type": "stream",
     "text": [
      "<class 'pandas.core.frame.DataFrame'>\n",
      "Index: 14 entries, 0 to 13\n",
      "Data columns (total 6 columns):\n",
      " #   Column         Non-Null Count  Dtype  \n",
      "---  ------         --------------  -----  \n",
      " 0   Outlook        14 non-null     object \n",
      " 1   Humidity       14 non-null     float64\n",
      " 2   Wind           14 non-null     bool   \n",
      " 3   Temperature C  14 non-null     float64\n",
      " 4   Temperature F  14 non-null     float64\n",
      " 5   Play           14 non-null     bool   \n",
      "dtypes: bool(2), float64(3), object(1)\n",
      "memory usage: 588.0+ bytes\n"
     ]
    }
   ],
   "execution_count": 6
  },
  {
   "cell_type": "markdown",
   "id": "725d2cab",
   "metadata": {},
   "source": [
    "## Encoding Categorical Variables\n",
    "Since `Outlook` is categorical, we convert it into numeric representations. But why?\n",
    "\n",
    "Most machine learning models require numerical input features, as they perform mathematical operations that do not work directly with categorical data. Common encoding methods include:\n",
    "- **One-Hot Encoding** – Creates binary columns for each category.\n",
    "- **Label Encoding** – Assigns an integer to each category.\n",
    "\n",
    "Encoding categorical variables allows us to:\n",
    "\n",
    "1. **Enable Model Training** – Many models, such as linear regression and neural networks, rely on numerical inputs and cannot process text labels.\n",
    "2. **Improve Interpretability** – Some encoding methods, such as ordinal encoding, can capture inherent order in categories.\n",
    "3. **Capture Relationships** – Encoding strategies like one-hot encoding and target encoding help the model recognize categorical relationships in a meaningful way.\n",
    "4. **Enhance Performance** – Proper encoding can improve model accuracy and efficiency by providing structured input."
   ]
  },
  {
   "cell_type": "code",
   "id": "9b6989b8",
   "metadata": {
    "ExecuteTime": {
     "end_time": "2025-02-20T11:12:52.361089Z",
     "start_time": "2025-02-20T11:12:52.347432Z"
    }
   },
   "source": [
    "# Label Encoding: Converts categories into ordered numeric values\n",
    "df['Outlook_Int'] = df['Outlook'].astype('category').cat.codes\n",
    "\n",
    "# Display the modified dataset\n",
    "df.head()"
   ],
   "outputs": [
    {
     "data": {
      "text/plain": [
       "    Outlook  Humidity   Wind  Temperature C  Temperature F   Play  Outlook_Int\n",
       "0     sunny      85.0  False           29.5           85.0  False            2\n",
       "1     sunny      90.0   True           26.5           80.0  False            2\n",
       "2  overcast      78.0  False           28.5           83.0   True            0\n",
       "3      rain      96.0  False           21.0           70.0   True            1\n",
       "4      rain      80.0  False           20.0           68.0   True            1"
      ],
      "text/html": [
       "<div>\n",
       "<style scoped>\n",
       "    .dataframe tbody tr th:only-of-type {\n",
       "        vertical-align: middle;\n",
       "    }\n",
       "\n",
       "    .dataframe tbody tr th {\n",
       "        vertical-align: top;\n",
       "    }\n",
       "\n",
       "    .dataframe thead th {\n",
       "        text-align: right;\n",
       "    }\n",
       "</style>\n",
       "<table border=\"1\" class=\"dataframe\">\n",
       "  <thead>\n",
       "    <tr style=\"text-align: right;\">\n",
       "      <th></th>\n",
       "      <th>Outlook</th>\n",
       "      <th>Humidity</th>\n",
       "      <th>Wind</th>\n",
       "      <th>Temperature C</th>\n",
       "      <th>Temperature F</th>\n",
       "      <th>Play</th>\n",
       "      <th>Outlook_Int</th>\n",
       "    </tr>\n",
       "  </thead>\n",
       "  <tbody>\n",
       "    <tr>\n",
       "      <th>0</th>\n",
       "      <td>sunny</td>\n",
       "      <td>85.0</td>\n",
       "      <td>False</td>\n",
       "      <td>29.5</td>\n",
       "      <td>85.0</td>\n",
       "      <td>False</td>\n",
       "      <td>2</td>\n",
       "    </tr>\n",
       "    <tr>\n",
       "      <th>1</th>\n",
       "      <td>sunny</td>\n",
       "      <td>90.0</td>\n",
       "      <td>True</td>\n",
       "      <td>26.5</td>\n",
       "      <td>80.0</td>\n",
       "      <td>False</td>\n",
       "      <td>2</td>\n",
       "    </tr>\n",
       "    <tr>\n",
       "      <th>2</th>\n",
       "      <td>overcast</td>\n",
       "      <td>78.0</td>\n",
       "      <td>False</td>\n",
       "      <td>28.5</td>\n",
       "      <td>83.0</td>\n",
       "      <td>True</td>\n",
       "      <td>0</td>\n",
       "    </tr>\n",
       "    <tr>\n",
       "      <th>3</th>\n",
       "      <td>rain</td>\n",
       "      <td>96.0</td>\n",
       "      <td>False</td>\n",
       "      <td>21.0</td>\n",
       "      <td>70.0</td>\n",
       "      <td>True</td>\n",
       "      <td>1</td>\n",
       "    </tr>\n",
       "    <tr>\n",
       "      <th>4</th>\n",
       "      <td>rain</td>\n",
       "      <td>80.0</td>\n",
       "      <td>False</td>\n",
       "      <td>20.0</td>\n",
       "      <td>68.0</td>\n",
       "      <td>True</td>\n",
       "      <td>1</td>\n",
       "    </tr>\n",
       "  </tbody>\n",
       "</table>\n",
       "</div>"
      ]
     },
     "execution_count": 7,
     "metadata": {},
     "output_type": "execute_result"
    }
   ],
   "execution_count": 7
  },
  {
   "cell_type": "markdown",
   "id": "6076a2d9-8eba-4df5-a25d-5e1cf4031ea7",
   "metadata": {},
   "source": [
    "However, note that **label encoding assigns arbitrary numerical values**, introducing an intrinsic order to the data.  \n",
    "To avoid this, we can alternatively use **one-hot encoding**, which creates separate binary columns for each category."
   ]
  },
  {
   "cell_type": "code",
   "id": "db47a91a-0386-4deb-86af-6877cb763c5a",
   "metadata": {
    "ExecuteTime": {
     "end_time": "2025-02-20T11:12:52.526281Z",
     "start_time": "2025-02-20T11:12:52.507260Z"
    }
   },
   "source": [
    "# One-Hot Encoding: Creates separate binary columns for each category\n",
    "df = pd.get_dummies(df, columns=['Outlook'], prefix='Outlook')\n",
    "\n",
    "# Display the dataset after One-Hot Encoding\n",
    "df.head()"
   ],
   "outputs": [
    {
     "data": {
      "text/plain": [
       "   Humidity   Wind  Temperature C  Temperature F   Play  Outlook_Int  \\\n",
       "0      85.0  False           29.5           85.0  False            2   \n",
       "1      90.0   True           26.5           80.0  False            2   \n",
       "2      78.0  False           28.5           83.0   True            0   \n",
       "3      96.0  False           21.0           70.0   True            1   \n",
       "4      80.0  False           20.0           68.0   True            1   \n",
       "\n",
       "   Outlook_overcast  Outlook_rain  Outlook_sunny  \n",
       "0             False         False           True  \n",
       "1             False         False           True  \n",
       "2              True         False          False  \n",
       "3             False          True          False  \n",
       "4             False          True          False  "
      ],
      "text/html": [
       "<div>\n",
       "<style scoped>\n",
       "    .dataframe tbody tr th:only-of-type {\n",
       "        vertical-align: middle;\n",
       "    }\n",
       "\n",
       "    .dataframe tbody tr th {\n",
       "        vertical-align: top;\n",
       "    }\n",
       "\n",
       "    .dataframe thead th {\n",
       "        text-align: right;\n",
       "    }\n",
       "</style>\n",
       "<table border=\"1\" class=\"dataframe\">\n",
       "  <thead>\n",
       "    <tr style=\"text-align: right;\">\n",
       "      <th></th>\n",
       "      <th>Humidity</th>\n",
       "      <th>Wind</th>\n",
       "      <th>Temperature C</th>\n",
       "      <th>Temperature F</th>\n",
       "      <th>Play</th>\n",
       "      <th>Outlook_Int</th>\n",
       "      <th>Outlook_overcast</th>\n",
       "      <th>Outlook_rain</th>\n",
       "      <th>Outlook_sunny</th>\n",
       "    </tr>\n",
       "  </thead>\n",
       "  <tbody>\n",
       "    <tr>\n",
       "      <th>0</th>\n",
       "      <td>85.0</td>\n",
       "      <td>False</td>\n",
       "      <td>29.5</td>\n",
       "      <td>85.0</td>\n",
       "      <td>False</td>\n",
       "      <td>2</td>\n",
       "      <td>False</td>\n",
       "      <td>False</td>\n",
       "      <td>True</td>\n",
       "    </tr>\n",
       "    <tr>\n",
       "      <th>1</th>\n",
       "      <td>90.0</td>\n",
       "      <td>True</td>\n",
       "      <td>26.5</td>\n",
       "      <td>80.0</td>\n",
       "      <td>False</td>\n",
       "      <td>2</td>\n",
       "      <td>False</td>\n",
       "      <td>False</td>\n",
       "      <td>True</td>\n",
       "    </tr>\n",
       "    <tr>\n",
       "      <th>2</th>\n",
       "      <td>78.0</td>\n",
       "      <td>False</td>\n",
       "      <td>28.5</td>\n",
       "      <td>83.0</td>\n",
       "      <td>True</td>\n",
       "      <td>0</td>\n",
       "      <td>True</td>\n",
       "      <td>False</td>\n",
       "      <td>False</td>\n",
       "    </tr>\n",
       "    <tr>\n",
       "      <th>3</th>\n",
       "      <td>96.0</td>\n",
       "      <td>False</td>\n",
       "      <td>21.0</td>\n",
       "      <td>70.0</td>\n",
       "      <td>True</td>\n",
       "      <td>1</td>\n",
       "      <td>False</td>\n",
       "      <td>True</td>\n",
       "      <td>False</td>\n",
       "    </tr>\n",
       "    <tr>\n",
       "      <th>4</th>\n",
       "      <td>80.0</td>\n",
       "      <td>False</td>\n",
       "      <td>20.0</td>\n",
       "      <td>68.0</td>\n",
       "      <td>True</td>\n",
       "      <td>1</td>\n",
       "      <td>False</td>\n",
       "      <td>True</td>\n",
       "      <td>False</td>\n",
       "    </tr>\n",
       "  </tbody>\n",
       "</table>\n",
       "</div>"
      ]
     },
     "execution_count": 8,
     "metadata": {},
     "output_type": "execute_result"
    }
   ],
   "execution_count": 8
  },
  {
   "cell_type": "markdown",
   "id": "7c48e5f9-5db8-4700-8d2b-9fd1bb345cb5",
   "metadata": {},
   "source": [
    "Redundant columns can be removed via `df.drop()`:"
   ]
  },
  {
   "cell_type": "code",
   "id": "21915b2f-fc38-46c8-bf74-6b316bd0f67d",
   "metadata": {
    "ExecuteTime": {
     "end_time": "2025-02-20T11:12:52.742484Z",
     "start_time": "2025-02-20T11:12:52.731224Z"
    }
   },
   "source": [
    "# Drop the label-encoded column\n",
    "df = df.drop(columns=['Outlook_Int'])\n",
    "\n",
    "# Display the dataset after One-Hot Encoding\n",
    "df.head()"
   ],
   "outputs": [
    {
     "data": {
      "text/plain": [
       "   Humidity   Wind  Temperature C  Temperature F   Play  Outlook_overcast  \\\n",
       "0      85.0  False           29.5           85.0  False             False   \n",
       "1      90.0   True           26.5           80.0  False             False   \n",
       "2      78.0  False           28.5           83.0   True              True   \n",
       "3      96.0  False           21.0           70.0   True             False   \n",
       "4      80.0  False           20.0           68.0   True             False   \n",
       "\n",
       "   Outlook_rain  Outlook_sunny  \n",
       "0         False           True  \n",
       "1         False           True  \n",
       "2         False          False  \n",
       "3          True          False  \n",
       "4          True          False  "
      ],
      "text/html": [
       "<div>\n",
       "<style scoped>\n",
       "    .dataframe tbody tr th:only-of-type {\n",
       "        vertical-align: middle;\n",
       "    }\n",
       "\n",
       "    .dataframe tbody tr th {\n",
       "        vertical-align: top;\n",
       "    }\n",
       "\n",
       "    .dataframe thead th {\n",
       "        text-align: right;\n",
       "    }\n",
       "</style>\n",
       "<table border=\"1\" class=\"dataframe\">\n",
       "  <thead>\n",
       "    <tr style=\"text-align: right;\">\n",
       "      <th></th>\n",
       "      <th>Humidity</th>\n",
       "      <th>Wind</th>\n",
       "      <th>Temperature C</th>\n",
       "      <th>Temperature F</th>\n",
       "      <th>Play</th>\n",
       "      <th>Outlook_overcast</th>\n",
       "      <th>Outlook_rain</th>\n",
       "      <th>Outlook_sunny</th>\n",
       "    </tr>\n",
       "  </thead>\n",
       "  <tbody>\n",
       "    <tr>\n",
       "      <th>0</th>\n",
       "      <td>85.0</td>\n",
       "      <td>False</td>\n",
       "      <td>29.5</td>\n",
       "      <td>85.0</td>\n",
       "      <td>False</td>\n",
       "      <td>False</td>\n",
       "      <td>False</td>\n",
       "      <td>True</td>\n",
       "    </tr>\n",
       "    <tr>\n",
       "      <th>1</th>\n",
       "      <td>90.0</td>\n",
       "      <td>True</td>\n",
       "      <td>26.5</td>\n",
       "      <td>80.0</td>\n",
       "      <td>False</td>\n",
       "      <td>False</td>\n",
       "      <td>False</td>\n",
       "      <td>True</td>\n",
       "    </tr>\n",
       "    <tr>\n",
       "      <th>2</th>\n",
       "      <td>78.0</td>\n",
       "      <td>False</td>\n",
       "      <td>28.5</td>\n",
       "      <td>83.0</td>\n",
       "      <td>True</td>\n",
       "      <td>True</td>\n",
       "      <td>False</td>\n",
       "      <td>False</td>\n",
       "    </tr>\n",
       "    <tr>\n",
       "      <th>3</th>\n",
       "      <td>96.0</td>\n",
       "      <td>False</td>\n",
       "      <td>21.0</td>\n",
       "      <td>70.0</td>\n",
       "      <td>True</td>\n",
       "      <td>False</td>\n",
       "      <td>True</td>\n",
       "      <td>False</td>\n",
       "    </tr>\n",
       "    <tr>\n",
       "      <th>4</th>\n",
       "      <td>80.0</td>\n",
       "      <td>False</td>\n",
       "      <td>20.0</td>\n",
       "      <td>68.0</td>\n",
       "      <td>True</td>\n",
       "      <td>False</td>\n",
       "      <td>True</td>\n",
       "      <td>False</td>\n",
       "    </tr>\n",
       "  </tbody>\n",
       "</table>\n",
       "</div>"
      ]
     },
     "execution_count": 9,
     "metadata": {},
     "output_type": "execute_result"
    }
   ],
   "execution_count": 9
  },
  {
   "cell_type": "markdown",
   "id": "b1339ac1",
   "metadata": {},
   "source": [
    "## Aggregations\n",
    "Aggregating numerical features by categorical target values can help us understand how different categories relate to numerical trends. In this case, we compute the average humidity for each `Play` type (e.g., \"False\" or \"True\") to analyze how humidity levels vary depending on whether a game was played."
   ]
  },
  {
   "cell_type": "code",
   "id": "13cbdcd3",
   "metadata": {
    "ExecuteTime": {
     "end_time": "2025-02-20T11:12:52.937013Z",
     "start_time": "2025-02-20T11:12:52.929702Z"
    }
   },
   "source": [
    "df.groupby('Play')['Humidity'].mean()"
   ],
   "outputs": [
    {
     "data": {
      "text/plain": [
       "Play\n",
       "False    84.000000\n",
       "True     78.222222\n",
       "Name: Humidity, dtype: float64"
      ]
     },
     "execution_count": 10,
     "metadata": {},
     "output_type": "execute_result"
    }
   ],
   "execution_count": 10
  },
  {
   "cell_type": "markdown",
   "id": "7737b082-7ea3-44c8-b8e2-5b50dafee80f",
   "metadata": {},
   "source": [
    "### Benefits of Aggregating by Target:\n",
    "1. **Feature Engineering** – We can create new features that highlight statistical differences between categories.\n",
    "2. **Exploratory Data Analysis (EDA)** – Identifies patterns in how numerical features differ across target values.\n",
    "3. **Potential Insights for Modeling** – If a numerical feature shows significant differences across target categories, it could be an important predictor.\n",
    "4. **Outlier Detection** – Aggregations can reveal anomalies in the data that might affect model performance.\n",
    "\n",
    "For instance, if the average humidity is significantly lower for `Play = Yes` compared to `Play = No`, humidity might be a strong predictor of whether a game is played."
   ]
  },
  {
   "cell_type": "markdown",
   "id": "bedd9979",
   "metadata": {},
   "source": [
    "## Filtering Data\n",
    "We can filter rows where `Play` is true."
   ]
  },
  {
   "cell_type": "code",
   "id": "d79486f2",
   "metadata": {
    "ExecuteTime": {
     "end_time": "2025-02-20T11:12:53.048898Z",
     "start_time": "2025-02-20T11:12:53.038063Z"
    }
   },
   "source": [
    "df[df['Play']]"
   ],
   "outputs": [
    {
     "data": {
      "text/plain": [
       "    Humidity   Wind  Temperature C  Temperature F  Play  Outlook_overcast  \\\n",
       "2       78.0  False           28.5           83.0  True              True   \n",
       "3       96.0  False           21.0           70.0  True             False   \n",
       "4       80.0  False           20.0           68.0  True             False   \n",
       "6       65.0   True           18.0           64.0  True              True   \n",
       "8       70.0  False           20.5           69.0  True             False   \n",
       "9       80.0  False           24.0           75.0  True             False   \n",
       "10      70.0   True           24.0           75.0  True             False   \n",
       "11      90.0   True           22.0           72.0  True              True   \n",
       "12      75.0  False           27.0           81.0  True              True   \n",
       "\n",
       "    Outlook_rain  Outlook_sunny  \n",
       "2          False          False  \n",
       "3           True          False  \n",
       "4           True          False  \n",
       "6          False          False  \n",
       "8          False           True  \n",
       "9           True          False  \n",
       "10         False           True  \n",
       "11         False          False  \n",
       "12         False          False  "
      ],
      "text/html": [
       "<div>\n",
       "<style scoped>\n",
       "    .dataframe tbody tr th:only-of-type {\n",
       "        vertical-align: middle;\n",
       "    }\n",
       "\n",
       "    .dataframe tbody tr th {\n",
       "        vertical-align: top;\n",
       "    }\n",
       "\n",
       "    .dataframe thead th {\n",
       "        text-align: right;\n",
       "    }\n",
       "</style>\n",
       "<table border=\"1\" class=\"dataframe\">\n",
       "  <thead>\n",
       "    <tr style=\"text-align: right;\">\n",
       "      <th></th>\n",
       "      <th>Humidity</th>\n",
       "      <th>Wind</th>\n",
       "      <th>Temperature C</th>\n",
       "      <th>Temperature F</th>\n",
       "      <th>Play</th>\n",
       "      <th>Outlook_overcast</th>\n",
       "      <th>Outlook_rain</th>\n",
       "      <th>Outlook_sunny</th>\n",
       "    </tr>\n",
       "  </thead>\n",
       "  <tbody>\n",
       "    <tr>\n",
       "      <th>2</th>\n",
       "      <td>78.0</td>\n",
       "      <td>False</td>\n",
       "      <td>28.5</td>\n",
       "      <td>83.0</td>\n",
       "      <td>True</td>\n",
       "      <td>True</td>\n",
       "      <td>False</td>\n",
       "      <td>False</td>\n",
       "    </tr>\n",
       "    <tr>\n",
       "      <th>3</th>\n",
       "      <td>96.0</td>\n",
       "      <td>False</td>\n",
       "      <td>21.0</td>\n",
       "      <td>70.0</td>\n",
       "      <td>True</td>\n",
       "      <td>False</td>\n",
       "      <td>True</td>\n",
       "      <td>False</td>\n",
       "    </tr>\n",
       "    <tr>\n",
       "      <th>4</th>\n",
       "      <td>80.0</td>\n",
       "      <td>False</td>\n",
       "      <td>20.0</td>\n",
       "      <td>68.0</td>\n",
       "      <td>True</td>\n",
       "      <td>False</td>\n",
       "      <td>True</td>\n",
       "      <td>False</td>\n",
       "    </tr>\n",
       "    <tr>\n",
       "      <th>6</th>\n",
       "      <td>65.0</td>\n",
       "      <td>True</td>\n",
       "      <td>18.0</td>\n",
       "      <td>64.0</td>\n",
       "      <td>True</td>\n",
       "      <td>True</td>\n",
       "      <td>False</td>\n",
       "      <td>False</td>\n",
       "    </tr>\n",
       "    <tr>\n",
       "      <th>8</th>\n",
       "      <td>70.0</td>\n",
       "      <td>False</td>\n",
       "      <td>20.5</td>\n",
       "      <td>69.0</td>\n",
       "      <td>True</td>\n",
       "      <td>False</td>\n",
       "      <td>False</td>\n",
       "      <td>True</td>\n",
       "    </tr>\n",
       "    <tr>\n",
       "      <th>9</th>\n",
       "      <td>80.0</td>\n",
       "      <td>False</td>\n",
       "      <td>24.0</td>\n",
       "      <td>75.0</td>\n",
       "      <td>True</td>\n",
       "      <td>False</td>\n",
       "      <td>True</td>\n",
       "      <td>False</td>\n",
       "    </tr>\n",
       "    <tr>\n",
       "      <th>10</th>\n",
       "      <td>70.0</td>\n",
       "      <td>True</td>\n",
       "      <td>24.0</td>\n",
       "      <td>75.0</td>\n",
       "      <td>True</td>\n",
       "      <td>False</td>\n",
       "      <td>False</td>\n",
       "      <td>True</td>\n",
       "    </tr>\n",
       "    <tr>\n",
       "      <th>11</th>\n",
       "      <td>90.0</td>\n",
       "      <td>True</td>\n",
       "      <td>22.0</td>\n",
       "      <td>72.0</td>\n",
       "      <td>True</td>\n",
       "      <td>True</td>\n",
       "      <td>False</td>\n",
       "      <td>False</td>\n",
       "    </tr>\n",
       "    <tr>\n",
       "      <th>12</th>\n",
       "      <td>75.0</td>\n",
       "      <td>False</td>\n",
       "      <td>27.0</td>\n",
       "      <td>81.0</td>\n",
       "      <td>True</td>\n",
       "      <td>True</td>\n",
       "      <td>False</td>\n",
       "      <td>False</td>\n",
       "    </tr>\n",
       "  </tbody>\n",
       "</table>\n",
       "</div>"
      ]
     },
     "execution_count": 11,
     "metadata": {},
     "output_type": "execute_result"
    }
   ],
   "execution_count": 11
  },
  {
   "cell_type": "markdown",
   "id": "868f833c-8fc3-48f6-8d81-c295a05b9e54",
   "metadata": {},
   "source": [
    "## Identifying Feature Correlations\n",
    "\n",
    "### Why Analyze Feature Correlations?\n",
    "Understanding the correlations between features in a dataset is crucial for effective data analysis and machine learning. Identifying these relationships helps in:\n",
    "\n",
    "1. **Detecting Multicollinearity** – Highly correlated features may introduce redundancy, leading to unstable model coefficients, especially in regression models.\n",
    "2. **Feature Selection** – Strongly correlated features can be reduced or removed to simplify models without losing significant information.\n",
    "3. **Improving Model Performance** – Models trained on highly correlated variables may overfit, making generalization difficult. Identifying correlations helps in choosing relevant features.\n",
    "4. **Data Interpretation** – Correlation analysis provides insights into how features interact, helping to uncover underlying relationships in the data.\n",
    "5. **Avoiding Bias in Feature Engineering** – If two features are highly correlated, derived features (e.g., polynomial combinations) may introduce unnecessary complexity.\n",
    "\n",
    "### Next Steps\n",
    "To better understand feature relationships, we compute and analyze the correlation matrix."
   ]
  },
  {
   "cell_type": "code",
   "id": "563c8b7e-a74c-4a80-b0c2-786356403082",
   "metadata": {
    "ExecuteTime": {
     "end_time": "2025-02-20T11:12:53.224520Z",
     "start_time": "2025-02-20T11:12:53.215654Z"
    }
   },
   "source": [
    "correlation_matrix = df.corr()\n",
    "\n",
    "print(correlation_matrix.round(2))"
   ],
   "outputs": [
    {
     "name": "stdout",
     "output_type": "stream",
     "text": [
      "                  Humidity  Wind  Temperature C  Temperature F  Play  \\\n",
      "Humidity              1.00 -0.25           0.25           0.27 -0.29   \n",
      "Wind                 -0.25  1.00          -0.33          -0.33 -0.26   \n",
      "Temperature C         0.25 -0.33           1.00           1.00 -0.11   \n",
      "Temperature F         0.27 -0.33           1.00           1.00 -0.12   \n",
      "Play                 -0.29 -0.26          -0.11          -0.12  1.00   \n",
      "Outlook_overcast     -0.22  0.09           0.15           0.14  0.47   \n",
      "Outlook_rain          0.07 -0.04          -0.44          -0.44 -0.07   \n",
      "Outlook_sunny         0.13 -0.04           0.30           0.31 -0.38   \n",
      "\n",
      "                  Outlook_overcast  Outlook_rain  Outlook_sunny  \n",
      "Humidity                     -0.22          0.07           0.13  \n",
      "Wind                          0.09         -0.04          -0.04  \n",
      "Temperature C                 0.15         -0.44           0.30  \n",
      "Temperature F                 0.14         -0.44           0.31  \n",
      "Play                          0.47         -0.07          -0.38  \n",
      "Outlook_overcast              1.00         -0.47          -0.47  \n",
      "Outlook_rain                 -0.47          1.00          -0.56  \n",
      "Outlook_sunny                -0.47         -0.56           1.00  \n"
     ]
    }
   ],
   "execution_count": 12
  },
  {
   "cell_type": "markdown",
   "id": "5126f125-8699-49b8-b303-8fe0d8934287",
   "metadata": {},
   "source": [
    "When two or more features are highly correlated, one common strategy is to **remove one of the correlated columns**."
   ]
  },
  {
   "cell_type": "code",
   "id": "88deac24-e145-4bfd-857c-bdc6af837cf1",
   "metadata": {
    "ExecuteTime": {
     "end_time": "2025-02-20T11:12:53.391588Z",
     "start_time": "2025-02-20T11:12:53.380891Z"
    }
   },
   "source": [
    "# Drop the label-encoded column\n",
    "df = df.drop(columns=['Temperature F'])\n",
    "\n",
    "# Display the dataset after One-Hot Encoding\n",
    "df.head()"
   ],
   "outputs": [
    {
     "data": {
      "text/plain": [
       "   Humidity   Wind  Temperature C   Play  Outlook_overcast  Outlook_rain  \\\n",
       "0      85.0  False           29.5  False             False         False   \n",
       "1      90.0   True           26.5  False             False         False   \n",
       "2      78.0  False           28.5   True              True         False   \n",
       "3      96.0  False           21.0   True             False          True   \n",
       "4      80.0  False           20.0   True             False          True   \n",
       "\n",
       "   Outlook_sunny  \n",
       "0           True  \n",
       "1           True  \n",
       "2          False  \n",
       "3          False  \n",
       "4          False  "
      ],
      "text/html": [
       "<div>\n",
       "<style scoped>\n",
       "    .dataframe tbody tr th:only-of-type {\n",
       "        vertical-align: middle;\n",
       "    }\n",
       "\n",
       "    .dataframe tbody tr th {\n",
       "        vertical-align: top;\n",
       "    }\n",
       "\n",
       "    .dataframe thead th {\n",
       "        text-align: right;\n",
       "    }\n",
       "</style>\n",
       "<table border=\"1\" class=\"dataframe\">\n",
       "  <thead>\n",
       "    <tr style=\"text-align: right;\">\n",
       "      <th></th>\n",
       "      <th>Humidity</th>\n",
       "      <th>Wind</th>\n",
       "      <th>Temperature C</th>\n",
       "      <th>Play</th>\n",
       "      <th>Outlook_overcast</th>\n",
       "      <th>Outlook_rain</th>\n",
       "      <th>Outlook_sunny</th>\n",
       "    </tr>\n",
       "  </thead>\n",
       "  <tbody>\n",
       "    <tr>\n",
       "      <th>0</th>\n",
       "      <td>85.0</td>\n",
       "      <td>False</td>\n",
       "      <td>29.5</td>\n",
       "      <td>False</td>\n",
       "      <td>False</td>\n",
       "      <td>False</td>\n",
       "      <td>True</td>\n",
       "    </tr>\n",
       "    <tr>\n",
       "      <th>1</th>\n",
       "      <td>90.0</td>\n",
       "      <td>True</td>\n",
       "      <td>26.5</td>\n",
       "      <td>False</td>\n",
       "      <td>False</td>\n",
       "      <td>False</td>\n",
       "      <td>True</td>\n",
       "    </tr>\n",
       "    <tr>\n",
       "      <th>2</th>\n",
       "      <td>78.0</td>\n",
       "      <td>False</td>\n",
       "      <td>28.5</td>\n",
       "      <td>True</td>\n",
       "      <td>True</td>\n",
       "      <td>False</td>\n",
       "      <td>False</td>\n",
       "    </tr>\n",
       "    <tr>\n",
       "      <th>3</th>\n",
       "      <td>96.0</td>\n",
       "      <td>False</td>\n",
       "      <td>21.0</td>\n",
       "      <td>True</td>\n",
       "      <td>False</td>\n",
       "      <td>True</td>\n",
       "      <td>False</td>\n",
       "    </tr>\n",
       "    <tr>\n",
       "      <th>4</th>\n",
       "      <td>80.0</td>\n",
       "      <td>False</td>\n",
       "      <td>20.0</td>\n",
       "      <td>True</td>\n",
       "      <td>False</td>\n",
       "      <td>True</td>\n",
       "      <td>False</td>\n",
       "    </tr>\n",
       "  </tbody>\n",
       "</table>\n",
       "</div>"
      ]
     },
     "execution_count": 13,
     "metadata": {},
     "output_type": "execute_result"
    }
   ],
   "execution_count": 13
  },
  {
   "cell_type": "markdown",
   "id": "01f1cbd5-6042-48cc-86e2-f1e77f9026c8",
   "metadata": {},
   "source": [
    "# Your first little ML pipeline with pandas and scikit"
   ]
  },
  {
   "cell_type": "markdown",
   "id": "11671ebb-05a8-49e7-9e23-e1c567c7f9df",
   "metadata": {},
   "source": [
    "## What is Scikit-Learn?\n",
    "Scikit-Learn is one of the most widely used libraries for machine learning in Python. It provides simple and efficient tools for classification, regression, clustering, dimensionality reduction, and more. It is built on top of **NumPy, SciPy, and Matplotlib**.\n",
    "\n",
    "## Installing Scikit-Learn in Jupyter Notebook\n",
    "To install Scikit-Learn in a Jupyter Notebook, use:"
   ]
  },
  {
   "cell_type": "code",
   "id": "28a807cc-80b1-4e7d-9d7e-5df51174970b",
   "metadata": {
    "ExecuteTime": {
     "end_time": "2025-02-20T11:12:53.544903Z",
     "start_time": "2025-02-20T11:12:53.541637Z"
    }
   },
   "source": [
    "#!pip install scikit-learn"
   ],
   "outputs": [],
   "execution_count": 14
  },
  {
   "cell_type": "markdown",
   "id": "a5b56d4f-5724-42f9-990b-056943053c7b",
   "metadata": {},
   "source": [
    "![Alt text](https://miro.medium.com/v2/resize:fit:1400/0*jSSOS4XfwothU7oQ.jpg)"
   ]
  },
  {
   "cell_type": "markdown",
   "id": "fa936978-5fb2-4672-8604-b8636cc3c199",
   "metadata": {},
   "source": [
    "## $k$-Nearest Neighbors: Classification as simple as it gets\n",
    "\n",
    "### What is $k$-NN?\n",
    "$k$-Nearest Neighbors ($k$-NN) is a simple and intuitive machine learning algorithm used for classification and regression. It classifies new data points based on the majority class of their nearest neighbors.\n",
    "\n",
    "### How does $k$-NN work?\n",
    "1. Select a number $k$ (typically an odd number to avoid ties).\n",
    "2. Calculate the distance (e.g., Euclidean) from the new data point to all existing labeled data points.\n",
    "3. Identify the $k$ closest neighbors.\n",
    "4. Assign the most common label among the neighbors to the new data point.\n",
    "\n",
    "### Strengths of $k$-NN:\n",
    "- **Simple & Effective** for small datasets.\n",
    "- **No Training Phase** – Just stores the dataset and finds neighbors at prediction time.\n",
    "- **Works with Non-Linear Decision Boundaries** since it is distance-based.\n",
    "\n",
    "### Limitations:\n",
    "- **Computationally Expensive** for large datasets (since distances are computed for every new query).\n",
    "- **Sensitive to Feature Scaling** (e.g., temperature in °C and humidity in % have different scales).\n",
    "- **Choice of $k$ Matters** – A too-small $k$ leads to noise, while a too-large $k$ can dilute local patterns.\n",
    "\n",
    "We will learn about $k$-NN by considering a toy example first and then apply the methods to the golf dataset.\n"
   ]
  },
  {
   "cell_type": "markdown",
   "id": "e3542623-546e-4114-94b1-db30daaabed7",
   "metadata": {},
   "source": [
    "### Step 1: Create a Toy Dataset\n",
    "We generate a small dataset with two features (`X1`, `X2`) and a binary class (`y`), where each point belongs to either Class 0 (red) or Class 1 (blue).\n"
   ]
  },
  {
   "cell_type": "code",
   "id": "33ad3f96-2b2e-41de-b6a2-49fab86feea2",
   "metadata": {
    "ExecuteTime": {
     "end_time": "2025-02-20T11:31:46.445371Z",
     "start_time": "2025-02-20T11:31:46.019706Z"
    }
   },
   "source": [
    "import numpy as np\n",
    "import matplotlib.pyplot as plt\n",
    "import pandas as pd\n",
    "\n",
    "# Generate toy dataset (manually defined)\n",
    "toy_data = {\n",
    "    'X1': [1, 2, 3, 6, 7, 8],\n",
    "    'X2': [1, 2, 3, 6, 7, 8],\n",
    "    'y': [0, 0, 0, 1, 1, 1]  # Class labels\n",
    "}\n",
    "\n",
    "# Convert to DataFrame\n",
    "toy_df = pd.DataFrame(toy_data)\n",
    "\n",
    "# Visualize the data\n",
    "plt.figure(figsize=(6, 6))\n",
    "colors = ['red' if label == 0 else 'blue' for label in toy_df['y']]\n",
    "plt.scatter(toy_df['X1'], toy_df['X2'], c=colors, edgecolors='black', s=100)\n",
    "\n",
    "plt.xlabel(\"Feature X1\")\n",
    "plt.ylabel(\"Feature X2\")\n",
    "plt.title(\"Toy Dataset for k-NN\")\n",
    "plt.show()\n"
   ],
   "outputs": [
    {
     "data": {
      "text/plain": [
       "<Figure size 600x600 with 1 Axes>"
      ],
      "image/png": "[encoded data removed]"
     },
     "metadata": {},
     "output_type": "display_data"
    }
   ],
   "execution_count": 16
  },
  {
   "cell_type": "markdown",
   "id": "5c5e530e-89d6-476b-8646-d44c66b162d0",
   "metadata": {},
   "source": [
    "### Step 2: Introduce a New Point to Classify\n",
    "Now, we introduce a **new data point** (marked in green) that we want to classify using k-NN.\n"
   ]
  },
  {
   "cell_type": "code",
   "id": "4d31826e-09a6-47e2-8ece-5a853c4d7b63",
   "metadata": {
    "ExecuteTime": {
     "end_time": "2025-02-20T11:37:02.216406Z",
     "start_time": "2025-02-20T11:37:02.105407Z"
    }
   },
   "source": [
    "# Define the new point to classify\n",
    "new_point = np.array([[5, 5]])\n",
    "\n",
    "# Plot dataset with the new point\n",
    "plt.figure(figsize=(6, 6))\n",
    "plt.scatter(toy_df['X1'], toy_df['X2'], c=colors, edgecolors='black', s=100, label=\"Training Points\")\n",
    "plt.scatter(new_point[0, 0], new_point[0, 1], color=\"green\", edgecolors=\"black\", s=200, label=\"New Point\")\n",
    "\n",
    "plt.xlabel(\"Feature X1\")\n",
    "plt.ylabel(\"Feature X2\")\n",
    "plt.legend()\n",
    "plt.title(\"New Point to Classify\")\n",
    "plt.show()"
   ],
   "outputs": [
    {
     "data": {
      "text/plain": [
       "<Figure size 600x600 with 1 Axes>"
      ],
      "image/png": "[encoded data removed]"
     },
     "metadata": {},
     "output_type": "display_data"
    }
   ],
   "execution_count": 17
  },
  {
   "cell_type": "markdown",
   "id": "10ceb0e2-7475-4b21-a9a0-d8ba74d94021",
   "metadata": {},
   "source": [
    "### Step 3: Compute Distances\n",
    "To classify the new point, we calculate the Euclidean distance between the new point and all existing points.\n"
   ]
  },
  {
   "cell_type": "code",
   "id": "0cd8b365-3372-4f83-8cf1-48394501233c",
   "metadata": {
    "ExecuteTime": {
     "end_time": "2025-02-20T11:40:42.026422Z",
     "start_time": "2025-02-20T11:40:41.747633Z"
    }
   },
   "source": [
    "from scipy.spatial import distance\n",
    "\n",
    "# Compute distances\n",
    "toy_df['Distance'] = toy_df.apply(lambda row: distance.euclidean((row['X1'], row['X2']), new_point[0]), axis=1)\n",
    "\n",
    "# Display distances\n",
    "toy_df_sorted = toy_df.sort_values(by='Distance')\n",
    "print(toy_df_sorted[['X1', 'X2', 'y', 'Distance']])\n"
   ],
   "outputs": [
    {
     "name": "stdout",
     "output_type": "stream",
     "text": [
      "   X1  X2  y  Distance\n",
      "3   6   6  1  1.414214\n",
      "2   3   3  0  2.828427\n",
      "4   7   7  1  2.828427\n",
      "1   2   2  0  4.242641\n",
      "5   8   8  1  4.242641\n",
      "0   1   1  0  5.656854\n"
     ]
    }
   ],
   "execution_count": 19
  },
  {
   "cell_type": "markdown",
   "id": "4fdbdf4c-2329-4220-84eb-ef94cac6aecc",
   "metadata": {},
   "source": [
    "### Step 4: Identify the k Nearest Neighbors (k=3)\n",
    "We take the closest `k=3` points and check their labels."
   ]
  },
  {
   "cell_type": "code",
   "id": "8841a3ff-7ec1-40a5-bcbc-2bfa48d4d229",
   "metadata": {
    "ExecuteTime": {
     "end_time": "2025-02-20T11:40:58.223776Z",
     "start_time": "2025-02-20T11:40:58.089126Z"
    }
   },
   "source": [
    "# Select the k-nearest neighbors\n",
    "k = 3\n",
    "nearest_neighbors = toy_df_sorted.iloc[:k]\n",
    "\n",
    "# Visualize neighbors\n",
    "plt.figure(figsize=(6, 6))\n",
    "plt.scatter(toy_df['X1'], toy_df['X2'], c=colors, edgecolors='black', s=100, label=\"Training Points\")\n",
    "plt.scatter(new_point[0, 0], new_point[0, 1], color=\"green\", edgecolors=\"black\", s=200, label=\"New Point\")\n",
    "plt.scatter(nearest_neighbors['X1'], nearest_neighbors['X2'], edgecolors='black', facecolors='none', s=300, linewidth=2)\n",
    "\n",
    "plt.xlabel(\"Feature X1\")\n",
    "plt.ylabel(\"Feature X2\")\n",
    "plt.legend()\n",
    "plt.title(f\"{k}-Nearest Neighbors Highlighted\")\n",
    "plt.show()"
   ],
   "outputs": [
    {
     "data": {
      "text/plain": [
       "<Figure size 600x600 with 1 Axes>"
      ],
      "image/png": "[encoded data removed]"
     },
     "metadata": {},
     "output_type": "display_data"
    }
   ],
   "execution_count": 20
  },
  {
   "cell_type": "markdown",
   "id": "8b09ce7e-9aa3-4fe6-9996-b47c5c59aac1",
   "metadata": {},
   "source": [
    "### Step 5: Implementing k-NN Using Scikit-Learn\n",
    "Now that we understand the concept, we use Scikit-Learn to train and classify the new point.\n"
   ]
  },
  {
   "cell_type": "code",
   "id": "0659ffed-b405-4ce0-ab22-974281fa25c6",
   "metadata": {
    "ExecuteTime": {
     "end_time": "2025-02-20T11:42:03.298160Z",
     "start_time": "2025-02-20T11:42:02.236044Z"
    }
   },
   "source": [
    "from sklearn.neighbors import KNeighborsClassifier\n",
    "\n",
    "# Define features and target\n",
    "X = toy_df[['X1', 'X2']]\n",
    "y = toy_df['y']\n",
    "\n",
    "# Train k-NN classifier\n",
    "knn = KNeighborsClassifier(n_neighbors=3)\n",
    "knn.fit(X, y)\n",
    "\n",
    "# Convert new_point to a DataFrame with the correct feature names\n",
    "new_point_df = pd.DataFrame(new_point, columns=['X1', 'X2'])\n",
    "\n",
    "# Predict the class of the new point\n",
    "prediction = knn.predict(new_point_df)\n",
    "\n",
    "print(f\"Scikit-Learn Predicted Class: {prediction[0]}\")\n"
   ],
   "outputs": [
    {
     "name": "stdout",
     "output_type": "stream",
     "text": [
      "Scikit-Learn Predicted Class: 1\n"
     ]
    }
   ],
   "execution_count": 24
  },
  {
   "cell_type": "markdown",
   "id": "1a9f33f6-2ca8-49ec-819a-ce55528e956d",
   "metadata": {},
   "source": [
    "## k-NN for Golf Dataset"
   ]
  },
  {
   "cell_type": "code",
   "id": "cef0dd69-075a-4459-8cbf-82ba7f0ddc94",
   "metadata": {
    "ExecuteTime": {
     "end_time": "2025-02-20T11:42:05.558867Z",
     "start_time": "2025-02-20T11:42:05.550203Z"
    }
   },
   "source": [
    "df.head()"
   ],
   "outputs": [
    {
     "data": {
      "text/plain": [
       "   Humidity   Wind  Temperature C   Play  Outlook_overcast  Outlook_rain  \\\n",
       "0      85.0  False           29.5  False             False         False   \n",
       "1      90.0   True           26.5  False             False         False   \n",
       "2      78.0  False           28.5   True              True         False   \n",
       "3      96.0  False           21.0   True             False          True   \n",
       "4      80.0  False           20.0   True             False          True   \n",
       "\n",
       "   Outlook_sunny  \n",
       "0           True  \n",
       "1           True  \n",
       "2          False  \n",
       "3          False  \n",
       "4          False  "
      ],
      "text/html": [
       "<div>\n",
       "<style scoped>\n",
       "    .dataframe tbody tr th:only-of-type {\n",
       "        vertical-align: middle;\n",
       "    }\n",
       "\n",
       "    .dataframe tbody tr th {\n",
       "        vertical-align: top;\n",
       "    }\n",
       "\n",
       "    .dataframe thead th {\n",
       "        text-align: right;\n",
       "    }\n",
       "</style>\n",
       "<table border=\"1\" class=\"dataframe\">\n",
       "  <thead>\n",
       "    <tr style=\"text-align: right;\">\n",
       "      <th></th>\n",
       "      <th>Humidity</th>\n",
       "      <th>Wind</th>\n",
       "      <th>Temperature C</th>\n",
       "      <th>Play</th>\n",
       "      <th>Outlook_overcast</th>\n",
       "      <th>Outlook_rain</th>\n",
       "      <th>Outlook_sunny</th>\n",
       "    </tr>\n",
       "  </thead>\n",
       "  <tbody>\n",
       "    <tr>\n",
       "      <th>0</th>\n",
       "      <td>85.0</td>\n",
       "      <td>False</td>\n",
       "      <td>29.5</td>\n",
       "      <td>False</td>\n",
       "      <td>False</td>\n",
       "      <td>False</td>\n",
       "      <td>True</td>\n",
       "    </tr>\n",
       "    <tr>\n",
       "      <th>1</th>\n",
       "      <td>90.0</td>\n",
       "      <td>True</td>\n",
       "      <td>26.5</td>\n",
       "      <td>False</td>\n",
       "      <td>False</td>\n",
       "      <td>False</td>\n",
       "      <td>True</td>\n",
       "    </tr>\n",
       "    <tr>\n",
       "      <th>2</th>\n",
       "      <td>78.0</td>\n",
       "      <td>False</td>\n",
       "      <td>28.5</td>\n",
       "      <td>True</td>\n",
       "      <td>True</td>\n",
       "      <td>False</td>\n",
       "      <td>False</td>\n",
       "    </tr>\n",
       "    <tr>\n",
       "      <th>3</th>\n",
       "      <td>96.0</td>\n",
       "      <td>False</td>\n",
       "      <td>21.0</td>\n",
       "      <td>True</td>\n",
       "      <td>False</td>\n",
       "      <td>True</td>\n",
       "      <td>False</td>\n",
       "    </tr>\n",
       "    <tr>\n",
       "      <th>4</th>\n",
       "      <td>80.0</td>\n",
       "      <td>False</td>\n",
       "      <td>20.0</td>\n",
       "      <td>True</td>\n",
       "      <td>False</td>\n",
       "      <td>True</td>\n",
       "      <td>False</td>\n",
       "    </tr>\n",
       "  </tbody>\n",
       "</table>\n",
       "</div>"
      ]
     },
     "execution_count": 25,
     "metadata": {},
     "output_type": "execute_result"
    }
   ],
   "execution_count": 25
  },
  {
   "cell_type": "code",
   "id": "611f5f26-3d4d-4456-8a8c-a6978cab8b28",
   "metadata": {
    "ExecuteTime": {
     "end_time": "2025-02-20T11:42:10.767869Z",
     "start_time": "2025-02-20T11:42:10.758652Z"
    }
   },
   "source": [
    "target = df['Play']\n",
    "\n",
    "df = df.drop(columns=['Play'])\n",
    "\n",
    "df.head()"
   ],
   "outputs": [
    {
     "data": {
      "text/plain": [
       "   Humidity   Wind  Temperature C  Outlook_overcast  Outlook_rain  \\\n",
       "0      85.0  False           29.5             False         False   \n",
       "1      90.0   True           26.5             False         False   \n",
       "2      78.0  False           28.5              True         False   \n",
       "3      96.0  False           21.0             False          True   \n",
       "4      80.0  False           20.0             False          True   \n",
       "\n",
       "   Outlook_sunny  \n",
       "0           True  \n",
       "1           True  \n",
       "2          False  \n",
       "3          False  \n",
       "4          False  "
      ],
      "text/html": [
       "<div>\n",
       "<style scoped>\n",
       "    .dataframe tbody tr th:only-of-type {\n",
       "        vertical-align: middle;\n",
       "    }\n",
       "\n",
       "    .dataframe tbody tr th {\n",
       "        vertical-align: top;\n",
       "    }\n",
       "\n",
       "    .dataframe thead th {\n",
       "        text-align: right;\n",
       "    }\n",
       "</style>\n",
       "<table border=\"1\" class=\"dataframe\">\n",
       "  <thead>\n",
       "    <tr style=\"text-align: right;\">\n",
       "      <th></th>\n",
       "      <th>Humidity</th>\n",
       "      <th>Wind</th>\n",
       "      <th>Temperature C</th>\n",
       "      <th>Outlook_overcast</th>\n",
       "      <th>Outlook_rain</th>\n",
       "      <th>Outlook_sunny</th>\n",
       "    </tr>\n",
       "  </thead>\n",
       "  <tbody>\n",
       "    <tr>\n",
       "      <th>0</th>\n",
       "      <td>85.0</td>\n",
       "      <td>False</td>\n",
       "      <td>29.5</td>\n",
       "      <td>False</td>\n",
       "      <td>False</td>\n",
       "      <td>True</td>\n",
       "    </tr>\n",
       "    <tr>\n",
       "      <th>1</th>\n",
       "      <td>90.0</td>\n",
       "      <td>True</td>\n",
       "      <td>26.5</td>\n",
       "      <td>False</td>\n",
       "      <td>False</td>\n",
       "      <td>True</td>\n",
       "    </tr>\n",
       "    <tr>\n",
       "      <th>2</th>\n",
       "      <td>78.0</td>\n",
       "      <td>False</td>\n",
       "      <td>28.5</td>\n",
       "      <td>True</td>\n",
       "      <td>False</td>\n",
       "      <td>False</td>\n",
       "    </tr>\n",
       "    <tr>\n",
       "      <th>3</th>\n",
       "      <td>96.0</td>\n",
       "      <td>False</td>\n",
       "      <td>21.0</td>\n",
       "      <td>False</td>\n",
       "      <td>True</td>\n",
       "      <td>False</td>\n",
       "    </tr>\n",
       "    <tr>\n",
       "      <th>4</th>\n",
       "      <td>80.0</td>\n",
       "      <td>False</td>\n",
       "      <td>20.0</td>\n",
       "      <td>False</td>\n",
       "      <td>True</td>\n",
       "      <td>False</td>\n",
       "    </tr>\n",
       "  </tbody>\n",
       "</table>\n",
       "</div>"
      ]
     },
     "execution_count": 26,
     "metadata": {},
     "output_type": "execute_result"
    }
   ],
   "execution_count": 26
  },
  {
   "cell_type": "code",
   "id": "23362e73-34d3-4fdf-8d47-ac33601d3fc5",
   "metadata": {
    "ExecuteTime": {
     "end_time": "2025-02-20T11:42:14.863094Z",
     "start_time": "2025-02-20T11:42:14.855099Z"
    }
   },
   "source": [
    "# Train k-NN classifier\n",
    "knn = KNeighborsClassifier(n_neighbors=3)\n",
    "knn.fit(df, target)"
   ],
   "outputs": [
    {
     "data": {
      "text/plain": [
       "KNeighborsClassifier(n_neighbors=3)"
      ],
      "text/html": [
       "<style>#sk-container-id-1 {\n",
       "  /* Definition of color scheme common for light and dark mode */\n",
       "  --sklearn-color-text: #000;\n",
       "  --sklearn-color-text-muted: #666;\n",
       "  --sklearn-color-line: gray;\n",
       "  /* Definition of color scheme for unfitted estimators */\n",
       "  --sklearn-color-unfitted-level-0: #fff5e6;\n",
       "  --sklearn-color-unfitted-level-1: #f6e4d2;\n",
       "  --sklearn-color-unfitted-level-2: #ffe0b3;\n",
       "  --sklearn-color-unfitted-level-3: chocolate;\n",
       "  /* Definition of color scheme for fitted estimators */\n",
       "  --sklearn-color-fitted-level-0: #f0f8ff;\n",
       "  --sklearn-color-fitted-level-1: #d4ebff;\n",
       "  --sklearn-color-fitted-level-2: #b3dbfd;\n",
       "  --sklearn-color-fitted-level-3: cornflowerblue;\n",
       "\n",
       "  /* Specific color for light theme */\n",
       "  --sklearn-color-text-on-default-background: var(--sg-text-color, var(--theme-code-foreground, var(--jp-content-font-color1, black)));\n",
       "  --sklearn-color-background: var(--sg-background-color, var(--theme-background, var(--jp-layout-color0, white)));\n",
       "  --sklearn-color-border-box: var(--sg-text-color, var(--theme-code-foreground, var(--jp-content-font-color1, black)));\n",
       "  --sklearn-color-icon: #696969;\n",
       "\n",
       "  @media (prefers-color-scheme: dark) {\n",
       "    /* Redefinition of color scheme for dark theme */\n",
       "    --sklearn-color-text-on-default-background: var(--sg-text-color, var(--theme-code-foreground, var(--jp-content-font-color1, white)));\n",
       "    --sklearn-color-background: var(--sg-background-color, var(--theme-background, var(--jp-layout-color0, #111)));\n",
       "    --sklearn-color-border-box: var(--sg-text-color, var(--theme-code-foreground, var(--jp-content-font-color1, white)));\n",
       "    --sklearn-color-icon: #878787;\n",
       "  }\n",
       "}\n",
       "\n",
       "#sk-container-id-1 {\n",
       "  color: var(--sklearn-color-text);\n",
       "}\n",
       "\n",
       "#sk-container-id-1 pre {\n",
       "  padding: 0;\n",
       "}\n",
       "\n",
       "#sk-container-id-1 input.sk-hidden--visually {\n",
       "  border: 0;\n",
       "  clip: rect(1px 1px 1px 1px);\n",
       "  clip: rect(1px, 1px, 1px, 1px);\n",
       "  height: 1px;\n",
       "  margin: -1px;\n",
       "  overflow: hidden;\n",
       "  padding: 0;\n",
       "  position: absolute;\n",
       "  width: 1px;\n",
       "}\n",
       "\n",
       "#sk-container-id-1 div.sk-dashed-wrapped {\n",
       "  border: 1px dashed var(--sklearn-color-line);\n",
       "  margin: 0 0.4em 0.5em 0.4em;\n",
       "  box-sizing: border-box;\n",
       "  padding-bottom: 0.4em;\n",
       "  background-color: var(--sklearn-color-background);\n",
       "}\n",
       "\n",
       "#sk-container-id-1 div.sk-container {\n",
       "  /* jupyter's `normalize.less` sets `[hidden] { display: none; }`\n",
       "     but bootstrap.min.css set `[hidden] { display: none !important; }`\n",
       "     so we also need the `!important` here to be able to override the\n",
       "     default hidden behavior on the sphinx rendered scikit-learn.org.\n",
       "     See: https://github.com/scikit-learn/scikit-learn/issues/21755 */\n",
       "  display: inline-block !important;\n",
       "  position: relative;\n",
       "}\n",
       "\n",
       "#sk-container-id-1 div.sk-text-repr-fallback {\n",
       "  display: none;\n",
       "}\n",
       "\n",
       "div.sk-parallel-item,\n",
       "div.sk-serial,\n",
       "div.sk-item {\n",
       "  /* draw centered vertical line to link estimators */\n",
       "  background-image: linear-gradient(var(--sklearn-color-text-on-default-background), var(--sklearn-color-text-on-default-background));\n",
       "  background-size: 2px 100%;\n",
       "  background-repeat: no-repeat;\n",
       "  background-position: center center;\n",
       "}\n",
       "\n",
       "/* Parallel-specific style estimator block */\n",
       "\n",
       "#sk-container-id-1 div.sk-parallel-item::after {\n",
       "  content: \"\";\n",
       "  width: 100%;\n",
       "  border-bottom: 2px solid var(--sklearn-color-text-on-default-background);\n",
       "  flex-grow: 1;\n",
       "}\n",
       "\n",
       "#sk-container-id-1 div.sk-parallel {\n",
       "  display: flex;\n",
       "  align-items: stretch;\n",
       "  justify-content: center;\n",
       "  background-color: var(--sklearn-color-background);\n",
       "  position: relative;\n",
       "}\n",
       "\n",
       "#sk-container-id-1 div.sk-parallel-item {\n",
       "  display: flex;\n",
       "  flex-direction: column;\n",
       "}\n",
       "\n",
       "#sk-container-id-1 div.sk-parallel-item:first-child::after {\n",
       "  align-self: flex-end;\n",
       "  width: 50%;\n",
       "}\n",
       "\n",
       "#sk-container-id-1 div.sk-parallel-item:last-child::after {\n",
       "  align-self: flex-start;\n",
       "  width: 50%;\n",
       "}\n",
       "\n",
       "#sk-container-id-1 div.sk-parallel-item:only-child::after {\n",
       "  width: 0;\n",
       "}\n",
       "\n",
       "/* Serial-specific style estimator block */\n",
       "\n",
       "#sk-container-id-1 div.sk-serial {\n",
       "  display: flex;\n",
       "  flex-direction: column;\n",
       "  align-items: center;\n",
       "  background-color: var(--sklearn-color-background);\n",
       "  padding-right: 1em;\n",
       "  padding-left: 1em;\n",
       "}\n",
       "\n",
       "\n",
       "/* Toggleable style: style used for estimator/Pipeline/ColumnTransformer box that is\n",
       "clickable and can be expanded/collapsed.\n",
       "- Pipeline and ColumnTransformer use this feature and define the default style\n",
       "- Estimators will overwrite some part of the style using the `sk-estimator` class\n",
       "*/\n",
       "\n",
       "/* Pipeline and ColumnTransformer style (default) */\n",
       "\n",
       "#sk-container-id-1 div.sk-toggleable {\n",
       "  /* Default theme specific background. It is overwritten whether we have a\n",
       "  specific estimator or a Pipeline/ColumnTransformer */\n",
       "  background-color: var(--sklearn-color-background);\n",
       "}\n",
       "\n",
       "/* Toggleable label */\n",
       "#sk-container-id-1 label.sk-toggleable__label {\n",
       "  cursor: pointer;\n",
       "  display: flex;\n",
       "  width: 100%;\n",
       "  margin-bottom: 0;\n",
       "  padding: 0.5em;\n",
       "  box-sizing: border-box;\n",
       "  text-align: center;\n",
       "  align-items: start;\n",
       "  justify-content: space-between;\n",
       "  gap: 0.5em;\n",
       "}\n",
       "\n",
       "#sk-container-id-1 label.sk-toggleable__label .caption {\n",
       "  font-size: 0.6rem;\n",
       "  font-weight: lighter;\n",
       "  color: var(--sklearn-color-text-muted);\n",
       "}\n",
       "\n",
       "#sk-container-id-1 label.sk-toggleable__label-arrow:before {\n",
       "  /* Arrow on the left of the label */\n",
       "  content: \"▸\";\n",
       "  float: left;\n",
       "  margin-right: 0.25em;\n",
       "  color: var(--sklearn-color-icon);\n",
       "}\n",
       "\n",
       "#sk-container-id-1 label.sk-toggleable__label-arrow:hover:before {\n",
       "  color: var(--sklearn-color-text);\n",
       "}\n",
       "\n",
       "/* Toggleable content - dropdown */\n",
       "\n",
       "#sk-container-id-1 div.sk-toggleable__content {\n",
       "  max-height: 0;\n",
       "  max-width: 0;\n",
       "  overflow: hidden;\n",
       "  text-align: left;\n",
       "  /* unfitted */\n",
       "  background-color: var(--sklearn-color-unfitted-level-0);\n",
       "}\n",
       "\n",
       "#sk-container-id-1 div.sk-toggleable__content.fitted {\n",
       "  /* fitted */\n",
       "  background-color: var(--sklearn-color-fitted-level-0);\n",
       "}\n",
       "\n",
       "#sk-container-id-1 div.sk-toggleable__content pre {\n",
       "  margin: 0.2em;\n",
       "  border-radius: 0.25em;\n",
       "  color: var(--sklearn-color-text);\n",
       "  /* unfitted */\n",
       "  background-color: var(--sklearn-color-unfitted-level-0);\n",
       "}\n",
       "\n",
       "#sk-container-id-1 div.sk-toggleable__content.fitted pre {\n",
       "  /* unfitted */\n",
       "  background-color: var(--sklearn-color-fitted-level-0);\n",
       "}\n",
       "\n",
       "#sk-container-id-1 input.sk-toggleable__control:checked~div.sk-toggleable__content {\n",
       "  /* Expand drop-down */\n",
       "  max-height: 200px;\n",
       "  max-width: 100%;\n",
       "  overflow: auto;\n",
       "}\n",
       "\n",
       "#sk-container-id-1 input.sk-toggleable__control:checked~label.sk-toggleable__label-arrow:before {\n",
       "  content: \"▾\";\n",
       "}\n",
       "\n",
       "/* Pipeline/ColumnTransformer-specific style */\n",
       "\n",
       "#sk-container-id-1 div.sk-label input.sk-toggleable__control:checked~label.sk-toggleable__label {\n",
       "  color: var(--sklearn-color-text);\n",
       "  background-color: var(--sklearn-color-unfitted-level-2);\n",
       "}\n",
       "\n",
       "#sk-container-id-1 div.sk-label.fitted input.sk-toggleable__control:checked~label.sk-toggleable__label {\n",
       "  background-color: var(--sklearn-color-fitted-level-2);\n",
       "}\n",
       "\n",
       "/* Estimator-specific style */\n",
       "\n",
       "/* Colorize estimator box */\n",
       "#sk-container-id-1 div.sk-estimator input.sk-toggleable__control:checked~label.sk-toggleable__label {\n",
       "  /* unfitted */\n",
       "  background-color: var(--sklearn-color-unfitted-level-2);\n",
       "}\n",
       "\n",
       "#sk-container-id-1 div.sk-estimator.fitted input.sk-toggleable__control:checked~label.sk-toggleable__label {\n",
       "  /* fitted */\n",
       "  background-color: var(--sklearn-color-fitted-level-2);\n",
       "}\n",
       "\n",
       "#sk-container-id-1 div.sk-label label.sk-toggleable__label,\n",
       "#sk-container-id-1 div.sk-label label {\n",
       "  /* The background is the default theme color */\n",
       "  color: var(--sklearn-color-text-on-default-background);\n",
       "}\n",
       "\n",
       "/* On hover, darken the color of the background */\n",
       "#sk-container-id-1 div.sk-label:hover label.sk-toggleable__label {\n",
       "  color: var(--sklearn-color-text);\n",
       "  background-color: var(--sklearn-color-unfitted-level-2);\n",
       "}\n",
       "\n",
       "/* Label box, darken color on hover, fitted */\n",
       "#sk-container-id-1 div.sk-label.fitted:hover label.sk-toggleable__label.fitted {\n",
       "  color: var(--sklearn-color-text);\n",
       "  background-color: var(--sklearn-color-fitted-level-2);\n",
       "}\n",
       "\n",
       "/* Estimator label */\n",
       "\n",
       "#sk-container-id-1 div.sk-label label {\n",
       "  font-family: monospace;\n",
       "  font-weight: bold;\n",
       "  display: inline-block;\n",
       "  line-height: 1.2em;\n",
       "}\n",
       "\n",
       "#sk-container-id-1 div.sk-label-container {\n",
       "  text-align: center;\n",
       "}\n",
       "\n",
       "/* Estimator-specific */\n",
       "#sk-container-id-1 div.sk-estimator {\n",
       "  font-family: monospace;\n",
       "  border: 1px dotted var(--sklearn-color-border-box);\n",
       "  border-radius: 0.25em;\n",
       "  box-sizing: border-box;\n",
       "  margin-bottom: 0.5em;\n",
       "  /* unfitted */\n",
       "  background-color: var(--sklearn-color-unfitted-level-0);\n",
       "}\n",
       "\n",
       "#sk-container-id-1 div.sk-estimator.fitted {\n",
       "  /* fitted */\n",
       "  background-color: var(--sklearn-color-fitted-level-0);\n",
       "}\n",
       "\n",
       "/* on hover */\n",
       "#sk-container-id-1 div.sk-estimator:hover {\n",
       "  /* unfitted */\n",
       "  background-color: var(--sklearn-color-unfitted-level-2);\n",
       "}\n",
       "\n",
       "#sk-container-id-1 div.sk-estimator.fitted:hover {\n",
       "  /* fitted */\n",
       "  background-color: var(--sklearn-color-fitted-level-2);\n",
       "}\n",
       "\n",
       "/* Specification for estimator info (e.g. \"i\" and \"?\") */\n",
       "\n",
       "/* Common style for \"i\" and \"?\" */\n",
       "\n",
       ".sk-estimator-doc-link,\n",
       "a:link.sk-estimator-doc-link,\n",
       "a:visited.sk-estimator-doc-link {\n",
       "  float: right;\n",
       "  font-size: smaller;\n",
       "  line-height: 1em;\n",
       "  font-family: monospace;\n",
       "  background-color: var(--sklearn-color-background);\n",
       "  border-radius: 1em;\n",
       "  height: 1em;\n",
       "  width: 1em;\n",
       "  text-decoration: none !important;\n",
       "  margin-left: 0.5em;\n",
       "  text-align: center;\n",
       "  /* unfitted */\n",
       "  border: var(--sklearn-color-unfitted-level-1) 1pt solid;\n",
       "  color: var(--sklearn-color-unfitted-level-1);\n",
       "}\n",
       "\n",
       ".sk-estimator-doc-link.fitted,\n",
       "a:link.sk-estimator-doc-link.fitted,\n",
       "a:visited.sk-estimator-doc-link.fitted {\n",
       "  /* fitted */\n",
       "  border: var(--sklearn-color-fitted-level-1) 1pt solid;\n",
       "  color: var(--sklearn-color-fitted-level-1);\n",
       "}\n",
       "\n",
       "/* On hover */\n",
       "div.sk-estimator:hover .sk-estimator-doc-link:hover,\n",
       ".sk-estimator-doc-link:hover,\n",
       "div.sk-label-container:hover .sk-estimator-doc-link:hover,\n",
       ".sk-estimator-doc-link:hover {\n",
       "  /* unfitted */\n",
       "  background-color: var(--sklearn-color-unfitted-level-3);\n",
       "  color: var(--sklearn-color-background);\n",
       "  text-decoration: none;\n",
       "}\n",
       "\n",
       "div.sk-estimator.fitted:hover .sk-estimator-doc-link.fitted:hover,\n",
       ".sk-estimator-doc-link.fitted:hover,\n",
       "div.sk-label-container:hover .sk-estimator-doc-link.fitted:hover,\n",
       ".sk-estimator-doc-link.fitted:hover {\n",
       "  /* fitted */\n",
       "  background-color: var(--sklearn-color-fitted-level-3);\n",
       "  color: var(--sklearn-color-background);\n",
       "  text-decoration: none;\n",
       "}\n",
       "\n",
       "/* Span, style for the box shown on hovering the info icon */\n",
       ".sk-estimator-doc-link span {\n",
       "  display: none;\n",
       "  z-index: 9999;\n",
       "  position: relative;\n",
       "  font-weight: normal;\n",
       "  right: .2ex;\n",
       "  padding: .5ex;\n",
       "  margin: .5ex;\n",
       "  width: min-content;\n",
       "  min-width: 20ex;\n",
       "  max-width: 50ex;\n",
       "  color: var(--sklearn-color-text);\n",
       "  box-shadow: 2pt 2pt 4pt #999;\n",
       "  /* unfitted */\n",
       "  background: var(--sklearn-color-unfitted-level-0);\n",
       "  border: .5pt solid var(--sklearn-color-unfitted-level-3);\n",
       "}\n",
       "\n",
       ".sk-estimator-doc-link.fitted span {\n",
       "  /* fitted */\n",
       "  background: var(--sklearn-color-fitted-level-0);\n",
       "  border: var(--sklearn-color-fitted-level-3);\n",
       "}\n",
       "\n",
       ".sk-estimator-doc-link:hover span {\n",
       "  display: block;\n",
       "}\n",
       "\n",
       "/* \"?\"-specific style due to the `<a>` HTML tag */\n",
       "\n",
       "#sk-container-id-1 a.estimator_doc_link {\n",
       "  float: right;\n",
       "  font-size: 1rem;\n",
       "  line-height: 1em;\n",
       "  font-family: monospace;\n",
       "  background-color: var(--sklearn-color-background);\n",
       "  border-radius: 1rem;\n",
       "  height: 1rem;\n",
       "  width: 1rem;\n",
       "  text-decoration: none;\n",
       "  /* unfitted */\n",
       "  color: var(--sklearn-color-unfitted-level-1);\n",
       "  border: var(--sklearn-color-unfitted-level-1) 1pt solid;\n",
       "}\n",
       "\n",
       "#sk-container-id-1 a.estimator_doc_link.fitted {\n",
       "  /* fitted */\n",
       "  border: var(--sklearn-color-fitted-level-1) 1pt solid;\n",
       "  color: var(--sklearn-color-fitted-level-1);\n",
       "}\n",
       "\n",
       "/* On hover */\n",
       "#sk-container-id-1 a.estimator_doc_link:hover {\n",
       "  /* unfitted */\n",
       "  background-color: var(--sklearn-color-unfitted-level-3);\n",
       "  color: var(--sklearn-color-background);\n",
       "  text-decoration: none;\n",
       "}\n",
       "\n",
       "#sk-container-id-1 a.estimator_doc_link.fitted:hover {\n",
       "  /* fitted */\n",
       "  background-color: var(--sklearn-color-fitted-level-3);\n",
       "}\n",
       "</style><div id=\"sk-container-id-1\" class=\"sk-top-container\"><div class=\"sk-text-repr-fallback\"><pre>KNeighborsClassifier(n_neighbors=3)</pre><b>In a Jupyter environment, please rerun this cell to show the HTML representation or trust the notebook. <br />On GitHub, the HTML representation is unable to render, please try loading this page with nbviewer.org.</b></div><div class=\"sk-container\" hidden><div class=\"sk-item\"><div class=\"sk-estimator fitted sk-toggleable\"><input class=\"sk-toggleable__control sk-hidden--visually\" id=\"sk-estimator-id-1\" type=\"checkbox\" checked><label for=\"sk-estimator-id-1\" class=\"sk-toggleable__label fitted sk-toggleable__label-arrow\"><div><div>KNeighborsClassifier</div></div><div><a class=\"sk-estimator-doc-link fitted\" rel=\"noreferrer\" target=\"_blank\" href=\"https://scikit-learn.org/1.6/modules/generated/sklearn.neighbors.KNeighborsClassifier.html\">?<span>Documentation for KNeighborsClassifier</span></a><span class=\"sk-estimator-doc-link fitted\">i<span>Fitted</span></span></div></label><div class=\"sk-toggleable__content fitted\"><pre>KNeighborsClassifier(n_neighbors=3)</pre></div> </div></div></div></div>"
      ]
     },
     "execution_count": 27,
     "metadata": {},
     "output_type": "execute_result"
    }
   ],
   "execution_count": 27
  },
  {
   "cell_type": "markdown",
   "id": "58ce19d5-3c80-494d-99f3-8726d197745f",
   "metadata": {},
   "source": [
    "So far, we have trained the k-NN model on the **entire dataset**, meaning it has seen all available data points during training. However, this does not tell us whether the model generalizes well to new, unseen data. To properly evaluate the model, we now use a **separate test dataset** that was not involved in training. This allows us to assess how well k-NN performs in real-world, unseen scenarios.\n"
   ]
  },
  {
   "cell_type": "code",
   "id": "ccee762b-b14b-402b-b64e-9823229b975c",
   "metadata": {
    "ExecuteTime": {
     "end_time": "2025-02-20T11:42:21.811034Z",
     "start_time": "2025-02-20T11:42:21.795565Z"
    }
   },
   "source": [
    "# Load the dataset\n",
    "df_test = pd.read_csv('golf_test.csv')\n",
    "\n",
    "# Apply the same preprocessing steps as for the training data\n",
    "\n",
    "df_test = df_test.drop(columns=['Temperature F'])\n",
    "\n",
    "df_test = pd.get_dummies(df_test, columns=['Outlook'], prefix='Outlook')\n",
    "\n",
    "# Display the first few rows\n",
    "df_test.head()"
   ],
   "outputs": [
    {
     "data": {
      "text/plain": [
       "   Humidity   Wind  Temperature C  Outlook_overcast  Outlook_rain  \\\n",
       "0      80.0  False           28.5             False         False   \n",
       "1      84.0  False           24.0             False          True   \n",
       "2      80.0   True           22.5              True         False   \n",
       "\n",
       "   Outlook_sunny  \n",
       "0           True  \n",
       "1          False  \n",
       "2          False  "
      ],
      "text/html": [
       "<div>\n",
       "<style scoped>\n",
       "    .dataframe tbody tr th:only-of-type {\n",
       "        vertical-align: middle;\n",
       "    }\n",
       "\n",
       "    .dataframe tbody tr th {\n",
       "        vertical-align: top;\n",
       "    }\n",
       "\n",
       "    .dataframe thead th {\n",
       "        text-align: right;\n",
       "    }\n",
       "</style>\n",
       "<table border=\"1\" class=\"dataframe\">\n",
       "  <thead>\n",
       "    <tr style=\"text-align: right;\">\n",
       "      <th></th>\n",
       "      <th>Humidity</th>\n",
       "      <th>Wind</th>\n",
       "      <th>Temperature C</th>\n",
       "      <th>Outlook_overcast</th>\n",
       "      <th>Outlook_rain</th>\n",
       "      <th>Outlook_sunny</th>\n",
       "    </tr>\n",
       "  </thead>\n",
       "  <tbody>\n",
       "    <tr>\n",
       "      <th>0</th>\n",
       "      <td>80.0</td>\n",
       "      <td>False</td>\n",
       "      <td>28.5</td>\n",
       "      <td>False</td>\n",
       "      <td>False</td>\n",
       "      <td>True</td>\n",
       "    </tr>\n",
       "    <tr>\n",
       "      <th>1</th>\n",
       "      <td>84.0</td>\n",
       "      <td>False</td>\n",
       "      <td>24.0</td>\n",
       "      <td>False</td>\n",
       "      <td>True</td>\n",
       "      <td>False</td>\n",
       "    </tr>\n",
       "    <tr>\n",
       "      <th>2</th>\n",
       "      <td>80.0</td>\n",
       "      <td>True</td>\n",
       "      <td>22.5</td>\n",
       "      <td>True</td>\n",
       "      <td>False</td>\n",
       "      <td>False</td>\n",
       "    </tr>\n",
       "  </tbody>\n",
       "</table>\n",
       "</div>"
      ]
     },
     "execution_count": 28,
     "metadata": {},
     "output_type": "execute_result"
    }
   ],
   "execution_count": 28
  },
  {
   "cell_type": "code",
   "id": "76ecc467-d219-41ec-98c2-53a684033e6d",
   "metadata": {
    "ExecuteTime": {
     "end_time": "2025-02-20T11:42:36.539205Z",
     "start_time": "2025-02-20T11:42:36.530583Z"
    }
   },
   "source": [
    "knn.predict(df_test)"
   ],
   "outputs": [
    {
     "data": {
      "text/plain": [
       "array([ True,  True,  True])"
      ]
     },
     "execution_count": 29,
     "metadata": {},
     "output_type": "execute_result"
    }
   ],
   "execution_count": 29
  },
  {
   "cell_type": "markdown",
   "id": "a8b42c96",
   "metadata": {},
   "source": [
    "# What’s Next? Key Considerations"
   ]
  },
  {
   "cell_type": "markdown",
   "id": "68f08382-a507-40df-8876-b96ec91673da",
   "metadata": {},
   "source": [
    "## What’s Next? Key Considerations\n",
    "\n",
    "While we implemented k-NN, there are important steps we must consider before using it in a real application:\n",
    "\n",
    "1. **Feature Normalization**  \n",
    "   - k-NN is **distance-based**, so features with different scales (e.g., °C vs. %) should be normalized.\n",
    "   - Methods: **Min-Max Scaling**, **Standardization (Z-score normalization)**.\n",
    "\n",
    "2. **Train-Test Split**  \n",
    "   - The model should be evaluated on unseen data, not just trained on the full dataset.\n",
    "   - Use **train-test splitting** (e.g., 80% training, 20% testing) to measure generalization.\n",
    "\n",
    "3. **Choosing the Right $k$**  \n",
    "   - Small $k$ (e.g., 1-3) → sensitive to noise, overfits.\n",
    "   - Large $k$ → smooths decision boundary, may underfit.\n",
    "   - **Use cross-validation to select the best k**.\n",
    "\n",
    "4. **Performance Evaluation (Not Yet Done!)**  \n",
    "   - **So far, no evaluation has been performed at all.**\n",
    "   - To assess model quality, we need metrics like:\n",
    "     - **Accuracy**\n",
    "     - **Confusion Matrix**\n",
    "     - **Precision, Recall, F1-score**\n",
    "     - **ROC/AUC for probability-based outputs**.\n",
    "\n",
    "5. **Handling Missing Data**  \n",
    "   - $k$-NN cannot handle missing values directly, so we need to preprocess missing data (e.g., imputation).\n",
    "\n",
    "### Next Steps:\n",
    "In the next steps, we will **normalize the data**, **split it into train-test sets**, and **evaluate the model properly**.\n"
   ]
  },
  {
   "cell_type": "code",
   "execution_count": null,
   "id": "69ff8639-2700-4844-9889-6e8cf8bc63c4",
   "metadata": {},
   "outputs": [],
   "source": []
  }
 ],
 "metadata": {
  "kernelspec": {
   "display_name": "Python 3 (ipykernel)",
   "language": "python",
   "name": "python3"
  },
  "language_info": {
   "codemirror_mode": {
    "name": "ipython",
    "version": 3
   },
   "file_extension": ".py",
   "mimetype": "text/x-python",
   "name": "python",
   "nbconvert_exporter": "python",
   "pygments_lexer": "ipython3",
   "version": "3.12.4"
  }
 },
 "nbformat": 4,
 "nbformat_minor": 5
}
