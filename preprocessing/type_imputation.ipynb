{
 "cells": [
  {
   "cell_type": "code",
   "execution_count": null,
   "id": "102b02bb",
   "metadata": {},
   "outputs": [],
   "source": [
    "import pandas as pd\n",
    "\n",
    "raw_data = pd.read_csv(\"../data/vehicles.csv\")\n",
    "\n",
    "display(raw_data[\"type\"].value_counts())\n",
    "\n",
    "def map_type(dataframe):\n",
    "    \"\"\"This function maps the attribute \"type\" in a three-step process: it first looks uses the attribute \"model\" by finding the most common non-null \"type\" for each model.  \n",
    "    It then fills in missing type values for rows that have the same model. If there are still missing values, manufacturer is then used in a similar process. \n",
    "    Finally, it fills in any remaining missing values with \"missing\". The function returns the transformed column.\"\"\"\n",
    "\n",
    "    dataframe_copy = dataframe.copy()\n",
    "\n",
    "    # Most common type per model (from known rows)\n",
    "    model_type_map = dataframe_copy[dataframe['type'].notnull()].groupby('model')['type'].agg(lambda x: x.mode().iloc[0])\n",
    "\n",
    "    # Fill in missing 'type' using this mapping\n",
    "    dataframe_copy.loc[dataframe_copy['type'].isnull(), 'type'] = dataframe_copy.loc[dataframe_copy['type'].isnull(), 'model'].map(model_type_map)\n",
    "\n",
    "    display(dataframe_copy[\"type\"].isna().sum())\n",
    "\n",
    "    # Most common type per manufacturer\n",
    "    manu_type_map = dataframe_copy[dataframe_copy['type'].notnull()].groupby('manufacturer')['type'].agg(lambda x: x.mode().iloc[0])\n",
    "\n",
    "    # Fill in remaining missing values\n",
    "    dataframe_copy.loc[dataframe_copy['type'].isnull(), 'type'] = dataframe_copy.loc[dataframe_copy['type'].isnull(), 'manufacturer'].map(manu_type_map)\n",
    "\n",
    "    display(dataframe_copy[\"type\"].isna().sum())\n",
    "\n",
    "    dataframe_copy['type'].fillna('missing', inplace=True)\n",
    "\n",
    "    return dataframe_copy[\"type\"]\n",
    "\n",
    "\n",
    "raw_data[\"type_new\"] = map_type(raw_data)[:100]\n",
    "display(raw_data[:50])\n"
   ]
  }
 ],
 "metadata": {
  "kernelspec": {
   "display_name": "Python 3",
   "language": "python",
   "name": "python3"
  },
  "language_info": {
   "codemirror_mode": {
    "name": "ipython",
    "version": 3
   },
   "file_extension": ".py",
   "mimetype": "text/x-python",
   "name": "python",
   "nbconvert_exporter": "python",
   "pygments_lexer": "ipython3",
   "version": "3.12.2"
  }
 },
 "nbformat": 4,
 "nbformat_minor": 5
}
