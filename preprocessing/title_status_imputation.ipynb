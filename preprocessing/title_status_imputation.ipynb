{
 "cells": [
  {
   "cell_type": "code",
   "execution_count": null,
   "id": "16f9c87d",
   "metadata": {},
   "outputs": [
    {
     "data": {
      "text/plain": [
       "title_status\n",
       "clean         405117\n",
       "rebuilt         7219\n",
       "salvage         3868\n",
       "lien            1422\n",
       "missing          814\n",
       "parts only       198\n",
       "Name: count, dtype: int64"
      ]
     },
     "metadata": {},
     "output_type": "display_data"
    },
    {
     "name": "stdout",
     "output_type": "stream",
     "text": [
      "<class 'pandas.core.frame.DataFrame'>\n",
      "RangeIndex: 426880 entries, 0 to 426879\n",
      "Data columns (total 26 columns):\n",
      " #   Column        Non-Null Count   Dtype  \n",
      "---  ------        --------------   -----  \n",
      " 0   id            426880 non-null  int64  \n",
      " 1   url           426880 non-null  object \n",
      " 2   region        426880 non-null  object \n",
      " 3   region_url    426880 non-null  object \n",
      " 4   price         426880 non-null  int64  \n",
      " 5   year          425675 non-null  float64\n",
      " 6   manufacturer  409234 non-null  object \n",
      " 7   model         421603 non-null  object \n",
      " 8   condition     252776 non-null  object \n",
      " 9   cylinders     249202 non-null  object \n",
      " 10  fuel          423867 non-null  object \n",
      " 11  odometer      422480 non-null  float64\n",
      " 12  title_status  418638 non-null  object \n",
      " 13  transmission  424324 non-null  object \n",
      " 14  VIN           265838 non-null  object \n",
      " 15  drive         296313 non-null  object \n",
      " 16  size          120519 non-null  object \n",
      " 17  type          334022 non-null  object \n",
      " 18  paint_color   296677 non-null  object \n",
      " 19  image_url     426812 non-null  object \n",
      " 20  description   426810 non-null  object \n",
      " 21  county        0 non-null       float64\n",
      " 22  state         426880 non-null  object \n",
      " 23  lat           420331 non-null  float64\n",
      " 24  long          420331 non-null  float64\n",
      " 25  posting_date  426812 non-null  object \n",
      "dtypes: float64(5), int64(2), object(19)\n",
      "memory usage: 84.7+ MB\n",
      "None\n",
      "id                   0\n",
      "url                  0\n",
      "region               0\n",
      "region_url           0\n",
      "price                0\n",
      "year              1205\n",
      "manufacturer     17646\n",
      "model             5277\n",
      "condition       174104\n",
      "cylinders       177678\n",
      "fuel              3013\n",
      "odometer          4400\n",
      "title_status      8242\n",
      "transmission      2556\n",
      "VIN             161042\n",
      "drive           130567\n",
      "size            306361\n",
      "type             92858\n",
      "paint_color     130203\n",
      "image_url           68\n",
      "description         70\n",
      "county          426880\n",
      "state                0\n",
      "lat               6549\n",
      "long              6549\n",
      "posting_date        68\n",
      "dtype: int64\n"
     ]
    }
   ],
   "source": [
    "import pandas as pd\n",
    "\n",
    "# DO WE ASSUME THAT PEOPLE ARE OMITTING THIS ATTRIBUTE INTENIONALLY => 3 options: Mode imputation, predictive imputation, or replace with missing?\n",
    "# read out raw data\n",
    "raw_data = pd.read_csv(\"../data/vehicles.csv\")\n",
    "\n",
    "\n",
    "# check the distribution of data, how many missing values exist, etc. \n",
    "display(raw_data[\"title_status\"].value_counts())\n",
    "print(raw_data.info())\n",
    "print(raw_data.isnull().sum())\n"
   ]
  },
  {
   "cell_type": "code",
   "execution_count": null,
   "id": "9ab8c541",
   "metadata": {},
   "outputs": [
    {
     "name": "stdout",
     "output_type": "stream",
     "text": [
      "missing values: 0\n"
     ]
    },
    {
     "data": {
      "text/plain": [
       "title_status\n",
       "clean         405117\n",
       "missing         9056\n",
       "rebuilt         7219\n",
       "salvage         3868\n",
       "lien            1422\n",
       "parts only       198\n",
       "Name: count, dtype: int64"
      ]
     },
     "metadata": {},
     "output_type": "display_data"
    },
    {
     "data": {
      "text/plain": [
       "0         missing\n",
       "1         missing\n",
       "2         missing\n",
       "3         missing\n",
       "4         missing\n",
       "           ...   \n",
       "426874      clean\n",
       "426875      clean\n",
       "426876      clean\n",
       "426877      clean\n",
       "426878      clean\n",
       "Name: title_status, Length: 426879, dtype: object"
      ]
     },
     "metadata": {},
     "output_type": "display_data"
    }
   ],
   "source": [
    "import numpy as np\n",
    "from sklearn.impute import SimpleImputer\n",
    "\n",
    "\n",
    "def impute_mode(raw_data):\n",
    "    \"\"\"\n",
    "    Returns impted mode of teh column \"title_status\".\n",
    "    \"\"\"\n",
    "    mode_imputer = SimpleImputer(strategy='most_frequent')\n",
    "\n",
    "    transformed_column = mode_imputer.fit_transform(raw_data[[\"title_status\"]]).ravel()\n",
    "    return transformed_column\n",
    "\n",
    "\n",
    "# this function will be used for preprocessing \n",
    "def replace_missing_with_predictive_model(raw_data):\n",
    "    \"\"\"\n",
    "    Returns the column \"title_status\" with filled \"missing\" if the observation is missing.\n",
    "    \"\"\"\n",
    "    transformed_column = raw_data[\"title_status\"].fillna(\"missing\")\n",
    "    return transformed_column\n",
    "\n",
    "\n",
    "raw_data[\"title_status\"] = replace_missing_with_predictive_model(raw_data)\n",
    "\n",
    "# Verify no missing values remain\n",
    "print(f\"missing values: {raw_data[\"title_status\"].isnull().sum()}\")\n",
    "\n",
    "# check the distribution again\n",
    "display(raw_data[\"title_status\"].value_counts())\n",
    "\n",
    "# Look at examples of the data\n",
    "display(raw_data.head(-1)[\"title_status\"])"
   ]
  }
 ],
 "metadata": {
  "kernelspec": {
   "display_name": "Python 3",
   "language": "python",
   "name": "python3"
  },
  "language_info": {
   "codemirror_mode": {
    "name": "ipython",
    "version": 3
   },
   "file_extension": ".py",
   "mimetype": "text/x-python",
   "name": "python",
   "nbconvert_exporter": "python",
   "pygments_lexer": "ipython3",
   "version": "3.12.2"
  }
 },
 "nbformat": 4,
 "nbformat_minor": 5
}
